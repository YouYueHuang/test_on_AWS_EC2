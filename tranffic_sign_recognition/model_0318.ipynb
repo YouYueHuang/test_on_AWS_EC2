{
 "cells": [
  {
   "cell_type": "markdown",
   "metadata": {},
   "source": [
    "# download data for cloud"
   ]
  },
  {
   "cell_type": "code",
   "execution_count": 88,
   "metadata": {},
   "outputs": [],
   "source": [
    "from download_file import *"
   ]
  },
  {
   "cell_type": "code",
   "execution_count": 2,
   "metadata": {},
   "outputs": [
    {
     "name": "stdout",
     "output_type": "stream",
     "text": [
      "- Download progress: 100.0%\n",
      "Download finished. Extracting files.\n",
      "Done.\n"
     ]
    }
   ],
   "source": [
    "url = \"https://s3-us-west-1.amazonaws.com/udacity-selfdrivingcar/traffic-signs-data.zip\"\n",
    "download_dir = '..//..//datasets_collection//Traffic_Sign_Classifier'\n",
    "maybe_download_and_extract(url, download_dir)"
   ]
  },
  {
   "cell_type": "markdown",
   "metadata": {},
   "source": [
    "# importing some useful packages"
   ]
  },
  {
   "cell_type": "code",
   "execution_count": 1,
   "metadata": {},
   "outputs": [
    {
     "name": "stderr",
     "output_type": "stream",
     "text": [
      "D:\\Anaconda_36\\envs\\tensorflow\\lib\\site-packages\\sklearn\\cross_validation.py:41: DeprecationWarning: This module was deprecated in version 0.18 in favor of the model_selection module into which all the refactored classes and functions are moved. Also note that the interface of the new CV iterators are different from that of this module. This module will be removed in 0.20.\n",
      "  \"This module will be removed in 0.20.\", DeprecationWarning)\n"
     ]
    }
   ],
   "source": [
    "import os\n",
    "import matplotlib.pyplot as plt\n",
    "import matplotlib.gridspec as gridspec\n",
    "import math\n",
    "import cv2\n",
    "import time as time\n",
    "from sklearn.preprocessing import OneHotEncoder\n",
    "from sklearn.cross_validation import train_test_split\n",
    "import numpy as np\n",
    "%matplotlib inline\n",
    "import tensorflow as tf\n",
    "from PIL import Image\n",
    "import time\n",
    "from datetime import timedelta\n",
    "import numpy as np\n",
    "import pandas as pd\n",
    "from sklearn.metrics import confusion_matrix"
   ]
  },
  {
   "cell_type": "code",
   "execution_count": 21,
   "metadata": {},
   "outputs": [],
   "source": [
    "import keras\n",
    "from keras.models import Sequential\n",
    "from keras.utils import np_utils\n",
    "from keras.preprocessing.image import ImageDataGenerator\n",
    "from keras.layers import Dense, Activation, Flatten, Dropout, BatchNormalization\n",
    "from keras.layers import Conv2D, MaxPooling2D\n",
    "from keras.datasets import cifar10\n",
    "from keras import regularizers, optimizers"
   ]
  },
  {
   "cell_type": "markdown",
   "metadata": {},
   "source": [
    "# Read data"
   ]
  },
  {
   "cell_type": "code",
   "execution_count": 2,
   "metadata": {},
   "outputs": [],
   "source": [
    "def OHE_labels(Y_tr,N_classes):\n",
    "    OHC = OneHotEncoder()\n",
    "    \n",
    "    Y_ohc = OHC.fit(np.arange(N_classes).reshape(-1, 1))\n",
    "    Y_labels = Y_ohc.transform(Y_tr.reshape(-1, 1)).toarray()\n",
    "    return Y_labels"
   ]
  },
  {
   "cell_type": "code",
   "execution_count": 3,
   "metadata": {},
   "outputs": [],
   "source": [
    "def read_data_sets(file):\n",
    "    \"\"\"\n",
    "    Load pickled data\n",
    "    args:\n",
    "        file   (str)     path to datasets \n",
    "    yields:\n",
    "        features and label of datasets (numpy array)\n",
    "    \"\"\"\n",
    "    with open(file, mode='rb') as f:\n",
    "        return pickle.load(f)"
   ]
  },
  {
   "cell_type": "code",
   "execution_count": 4,
   "metadata": {},
   "outputs": [],
   "source": [
    "# Load pickled data\n",
    "import pickle\n",
    "\n",
    "data_rel_path = \"..\\\\..\\\\datasets_collection\\\\Traffic_Sign_Classifier\"\n",
    "#\"aug_train_600\"\n",
    "\n",
    "train = read_data_sets(os.path.join(data_rel_path, \"aug_train_600.p\"))\n",
    "valid= read_data_sets(os.path.join(data_rel_path, \"valid.p\")) \n",
    "test = read_data_sets(os.path.join(data_rel_path, \"test.p\")) \n",
    "\n",
    "    \n",
    "X_train, y_train = train['features'], train['labels']\n",
    "X_test, y_test = test['features'], test['labels']\n",
    "X_valid, y_valid = valid['features'], valid['labels']\n",
    "labels_train = OHE_labels(y_train,43)\n",
    "labels_test = OHE_labels(y_test,43)\n",
    "labels_valid = OHE_labels(y_valid,43)"
   ]
  },
  {
   "cell_type": "code",
   "execution_count": 5,
   "metadata": {},
   "outputs": [],
   "source": [
    "def check_OHE(cls,y):\n",
    "    check = np.linalg.norm(np.argmax(cls,axis=1)-y)\n",
    "    if check == 0:\n",
    "        print('One hot encoding correct, ok to proceed')\n",
    "    else:\n",
    "        print('One hot encoding doesnt match the output, check code!!!')"
   ]
  },
  {
   "cell_type": "code",
   "execution_count": 6,
   "metadata": {},
   "outputs": [],
   "source": [
    "data_pd = pd.read_csv(os.path.join(data_rel_path, 'signnames.csv'))"
   ]
  },
  {
   "cell_type": "code",
   "execution_count": 7,
   "metadata": {},
   "outputs": [
    {
     "name": "stdout",
     "output_type": "stream",
     "text": [
      "One hot encoding correct, ok to proceed\n",
      "One hot encoding correct, ok to proceed\n"
     ]
    }
   ],
   "source": [
    "check_OHE(labels_test,y_test)\n",
    "check_OHE(labels_train,y_train)"
   ]
  },
  {
   "cell_type": "markdown",
   "metadata": {},
   "source": [
    "# Dataset Exploration"
   ]
  },
  {
   "cell_type": "markdown",
   "metadata": {},
   "source": [
    "## Dataset Summary"
   ]
  },
  {
   "cell_type": "code",
   "execution_count": 8,
   "metadata": {},
   "outputs": [
    {
     "name": "stdout",
     "output_type": "stream",
     "text": [
      "Number of training examples = 41469\n",
      "Number of testing examples = 12630\n",
      "Image data shape = (32, 32, 3)\n",
      "Number of classes = 43\n"
     ]
    }
   ],
   "source": [
    "n_train = len(y_train)\n",
    "n_test = len(y_test)\n",
    "image_shape = np.shape(X_train[1])\n",
    "n_classes = len(np.unique(y_train))\n",
    "\n",
    "print(\"Number of training examples =\", n_train)\n",
    "print(\"Number of testing examples =\", n_test)\n",
    "print(\"Image data shape =\", image_shape)\n",
    "print(\"Number of classes =\", n_classes)"
   ]
  },
  {
   "cell_type": "markdown",
   "metadata": {},
   "source": [
    "## Exploratory Visualization"
   ]
  },
  {
   "cell_type": "code",
   "execution_count": 9,
   "metadata": {},
   "outputs": [],
   "source": [
    "def plot_random_3C(n_row,n_col,X,y):\n",
    "\n",
    "    plt.figure(figsize = (11,8))\n",
    "    gs1 = gridspec.GridSpec(n_row,n_row)\n",
    "    gs1.update(wspace=0.01, hspace=0.02) # set the spacing between axes. \n",
    "\n",
    "    for i in range(n_row*n_col):\n",
    "        # i = i + 1 # grid spec indexes from 0\n",
    "        ax1 = plt.subplot(gs1[i])\n",
    "        plt.axis('on')\n",
    "        ax1.set_xticklabels([])\n",
    "        ax1.set_yticklabels([])\n",
    "        ax1.set_aspect('equal')\n",
    "        #plt.subplot(4,11,i+1)\n",
    "        ind_plot = np.random.randint(1,len(y))\n",
    "        plt.imshow(X[ind_plot])\n",
    "        plt.text(2,4,str(y[ind_plot]),\n",
    "             color='k',backgroundcolor='c')\n",
    "        plt.axis('off')\n",
    "    plt.show()\n",
    "def plot_random_1C(n_row,n_col,X,y):\n",
    "\n",
    "    plt.figure(figsize = (11,8))\n",
    "    gs1 = gridspec.GridSpec(n_row,n_row)\n",
    "    gs1.update(wspace=0.01, hspace=0.02) # set the spacing between axes. \n",
    "\n",
    "    for i in range(n_row*n_col):\n",
    "        # i = i + 1 # grid spec indexes from 0\n",
    "        ax1 = plt.subplot(gs1[i])\n",
    "        plt.axis('on')\n",
    "        ax1.set_xticklabels([])\n",
    "        ax1.set_yticklabels([])\n",
    "        ax1.set_aspect('equal')\n",
    "        #plt.subplot(4,11,i+1)\n",
    "        ind_plot = np.random.randint(1,len(y))\n",
    "        plt.imshow(X[ind_plot],cmap='gray')\n",
    "        plt.text(2,4,str(y[ind_plot]),\n",
    "             color='k',backgroundcolor='c')\n",
    "        plt.axis('off')\n",
    "    plt.show()   \n",
    "def plot_random_preprocess(n_row,n_col,X,y):\n",
    "\n",
    "    plt.figure(figsize = (11,8))\n",
    "    gs1 = gridspec.GridSpec(n_row,n_row)\n",
    "    gs1.update(wspace=0.01, hspace=0.02) # set the spacing between axes. \n",
    "\n",
    "    for i in range(n_row*n_col):\n",
    "        # i = i + 1 # grid spec indexes from 0\n",
    "        ax1 = plt.subplot(gs1[i])\n",
    "        plt.axis('on')\n",
    "        ax1.set_xticklabels([])\n",
    "        ax1.set_yticklabels([])\n",
    "        ax1.set_aspect('equal')\n",
    "        #plt.subplot(4,11,i+1)\n",
    "        ind_plot = np.random.randint(1,len(y))\n",
    "        plt.imshow(pre_process_image(X[ind_plot]),cmap='gray')\n",
    "        plt.text(2,4,str(y[ind_plot]),\n",
    "             color='k',backgroundcolor='c')\n",
    "        plt.axis('off')\n",
    "    plt.show()"
   ]
  },
  {
   "cell_type": "markdown",
   "metadata": {},
   "source": [
    "### original images"
   ]
  },
  {
   "cell_type": "code",
   "execution_count": 10,
   "metadata": {},
   "outputs": [
    {
     "data": {
      "image/png": "[encoded data removed]",
      "text/plain": [
       "<matplotlib.figure.Figure at 0xc765c8cb00>"
      ]
     },
     "metadata": {},
     "output_type": "display_data"
    }
   ],
   "source": [
    "plot_random_3C(4,4,X_train,y_train)"
   ]
  },
  {
   "cell_type": "markdown",
   "metadata": {},
   "source": [
    "### images after equalization "
   ]
  },
  {
   "cell_type": "code",
   "execution_count": 11,
   "metadata": {},
   "outputs": [],
   "source": [
    "def pre_process_image(image):\n",
    "\n",
    "    #image = cv2.cvtColor(image, cv2.COLOR_BGR2YUV)\n",
    "    #image = image[:,:,0]\n",
    "    image[:,:,0] = cv2.equalizeHist(image[:,:,0])\n",
    "    image[:,:,1] = cv2.equalizeHist(image[:,:,1])\n",
    "    image[:,:,2] = cv2.equalizeHist(image[:,:,2])\n",
    "    image = image/255.-.5\n",
    "    #image = cv2.resize(image, (img_resize,img_resize),interpolation = cv2.INTER_CUBIC)\n",
    "    return image"
   ]
  },
  {
   "cell_type": "code",
   "execution_count": 12,
   "metadata": {},
   "outputs": [],
   "source": [
    "img_resize = 32\n",
    "N_classes = 43\n",
    "image_shape = (img_resize,img_resize)\n",
    "img_size_flat = img_resize*img_resize\n",
    "\n",
    "image_GS_train = np.array([pre_process_image(X_train[i]) for i in range(len(X_train))],\n",
    "                          dtype = np.float32)\n",
    "image_GS_test = np.array([pre_process_image(X_test[i]) for i in range(len(X_test))],\n",
    "                          dtype = np.float32)"
   ]
  },
  {
   "cell_type": "code",
   "execution_count": 13,
   "metadata": {},
   "outputs": [
    {
     "data": {
      "image/png": "[encoded data removed]",
      "text/plain": [
       "<matplotlib.figure.Figure at 0xc765c8ca58>"
      ]
     },
     "metadata": {},
     "output_type": "display_data"
    }
   ],
   "source": [
    "plot_random_3C(4,4,image_GS_train+.5,y_train)"
   ]
  },
  {
   "cell_type": "markdown",
   "metadata": {},
   "source": [
    "### frequency table of training set"
   ]
  },
  {
   "cell_type": "code",
   "execution_count": 14,
   "metadata": {},
   "outputs": [],
   "source": [
    "data_i = [[i,sum(y_train == i)] for i in range(len(np.unique(y_train)))]\n",
    "data_i_sorted = sorted(data_i, key=lambda x: x[1])"
   ]
  },
  {
   "cell_type": "code",
   "execution_count": 15,
   "metadata": {},
   "outputs": [],
   "source": [
    "data_pd['Occurance'] = pd.Series(np.asarray(data_i_sorted).T[1], index=np.asarray(data_i_sorted).T[0])\n",
    "data_pd_sorted = data_pd.sort_values(['Occurance'],ascending=[0])\n",
    "data_pd_sorted = data_pd_sorted.reindex(data_pd_sorted[\"ClassId\"])\n",
    "data_pd_sorted = data_pd.sort_values(['Occurance'],ascending=[0])\n",
    "data_pd_sorted = data_pd_sorted.drop(['ClassId'], axis = 1)"
   ]
  },
  {
   "cell_type": "code",
   "execution_count": 16,
   "metadata": {},
   "outputs": [
    {
     "data": {
      "text/html": [
       "<div>\n",
       "<style scoped>\n",
       "    .dataframe tbody tr th:only-of-type {\n",
       "        vertical-align: middle;\n",
       "    }\n",
       "\n",
       "    .dataframe tbody tr th {\n",
       "        vertical-align: top;\n",
       "    }\n",
       "\n",
       "    .dataframe thead th {\n",
       "        text-align: right;\n",
       "    }\n",
       "</style>\n",
       "<table border=\"1\" class=\"dataframe\">\n",
       "  <thead>\n",
       "    <tr style=\"text-align: right;\">\n",
       "      <th></th>\n",
       "      <th>SignName</th>\n",
       "      <th>Occurance</th>\n",
       "    </tr>\n",
       "  </thead>\n",
       "  <tbody>\n",
       "    <tr>\n",
       "      <th>2</th>\n",
       "      <td>Speed limit (50km/h)</td>\n",
       "      <td>2010</td>\n",
       "    </tr>\n",
       "    <tr>\n",
       "      <th>1</th>\n",
       "      <td>Speed limit (30km/h)</td>\n",
       "      <td>1980</td>\n",
       "    </tr>\n",
       "    <tr>\n",
       "      <th>13</th>\n",
       "      <td>Yield</td>\n",
       "      <td>1920</td>\n",
       "    </tr>\n",
       "    <tr>\n",
       "      <th>12</th>\n",
       "      <td>Priority road</td>\n",
       "      <td>1890</td>\n",
       "    </tr>\n",
       "    <tr>\n",
       "      <th>38</th>\n",
       "      <td>Keep right</td>\n",
       "      <td>1860</td>\n",
       "    </tr>\n",
       "    <tr>\n",
       "      <th>10</th>\n",
       "      <td>No passing for vehicles over 3.5 metric tons</td>\n",
       "      <td>1800</td>\n",
       "    </tr>\n",
       "    <tr>\n",
       "      <th>4</th>\n",
       "      <td>Speed limit (70km/h)</td>\n",
       "      <td>1770</td>\n",
       "    </tr>\n",
       "    <tr>\n",
       "      <th>5</th>\n",
       "      <td>Speed limit (80km/h)</td>\n",
       "      <td>1650</td>\n",
       "    </tr>\n",
       "    <tr>\n",
       "      <th>25</th>\n",
       "      <td>Road work</td>\n",
       "      <td>1350</td>\n",
       "    </tr>\n",
       "    <tr>\n",
       "      <th>9</th>\n",
       "      <td>No passing</td>\n",
       "      <td>1320</td>\n",
       "    </tr>\n",
       "  </tbody>\n",
       "</table>\n",
       "</div>"
      ],
      "text/plain": [
       "                                        SignName  Occurance\n",
       "2                           Speed limit (50km/h)       2010\n",
       "1                           Speed limit (30km/h)       1980\n",
       "13                                         Yield       1920\n",
       "12                                 Priority road       1890\n",
       "38                                    Keep right       1860\n",
       "10  No passing for vehicles over 3.5 metric tons       1800\n",
       "4                           Speed limit (70km/h)       1770\n",
       "5                           Speed limit (80km/h)       1650\n",
       "25                                     Road work       1350\n",
       "9                                     No passing       1320"
      ]
     },
     "execution_count": 16,
     "metadata": {},
     "output_type": "execute_result"
    }
   ],
   "source": [
    "data_pd_sorted.head(10)"
   ]
  },
  {
   "cell_type": "code",
   "execution_count": 17,
   "metadata": {},
   "outputs": [
    {
     "data": {
      "text/html": [
       "<div>\n",
       "<style scoped>\n",
       "    .dataframe tbody tr th:only-of-type {\n",
       "        vertical-align: middle;\n",
       "    }\n",
       "\n",
       "    .dataframe tbody tr th {\n",
       "        vertical-align: top;\n",
       "    }\n",
       "\n",
       "    .dataframe thead th {\n",
       "        text-align: right;\n",
       "    }\n",
       "</style>\n",
       "<table border=\"1\" class=\"dataframe\">\n",
       "  <thead>\n",
       "    <tr style=\"text-align: right;\">\n",
       "      <th></th>\n",
       "      <th>SignName</th>\n",
       "      <th>Occurance</th>\n",
       "    </tr>\n",
       "  </thead>\n",
       "  <tbody>\n",
       "    <tr>\n",
       "      <th>26</th>\n",
       "      <td>Traffic signals</td>\n",
       "      <td>600</td>\n",
       "    </tr>\n",
       "    <tr>\n",
       "      <th>24</th>\n",
       "      <td>Road narrows on the right</td>\n",
       "      <td>600</td>\n",
       "    </tr>\n",
       "    <tr>\n",
       "      <th>23</th>\n",
       "      <td>Slippery road</td>\n",
       "      <td>600</td>\n",
       "    </tr>\n",
       "    <tr>\n",
       "      <th>22</th>\n",
       "      <td>Bumpy road</td>\n",
       "      <td>600</td>\n",
       "    </tr>\n",
       "    <tr>\n",
       "      <th>20</th>\n",
       "      <td>Dangerous curve to the right</td>\n",
       "      <td>600</td>\n",
       "    </tr>\n",
       "    <tr>\n",
       "      <th>19</th>\n",
       "      <td>Dangerous curve to the left</td>\n",
       "      <td>600</td>\n",
       "    </tr>\n",
       "    <tr>\n",
       "      <th>16</th>\n",
       "      <td>Vehicles over 3.5 metric tons prohibited</td>\n",
       "      <td>600</td>\n",
       "    </tr>\n",
       "    <tr>\n",
       "      <th>15</th>\n",
       "      <td>No vehicles</td>\n",
       "      <td>600</td>\n",
       "    </tr>\n",
       "    <tr>\n",
       "      <th>6</th>\n",
       "      <td>End of speed limit (80km/h)</td>\n",
       "      <td>600</td>\n",
       "    </tr>\n",
       "    <tr>\n",
       "      <th>42</th>\n",
       "      <td>End of no passing by vehicles over 3.5 metric ...</td>\n",
       "      <td>600</td>\n",
       "    </tr>\n",
       "  </tbody>\n",
       "</table>\n",
       "</div>"
      ],
      "text/plain": [
       "                                             SignName  Occurance\n",
       "26                                    Traffic signals        600\n",
       "24                          Road narrows on the right        600\n",
       "23                                      Slippery road        600\n",
       "22                                         Bumpy road        600\n",
       "20                       Dangerous curve to the right        600\n",
       "19                        Dangerous curve to the left        600\n",
       "16           Vehicles over 3.5 metric tons prohibited        600\n",
       "15                                        No vehicles        600\n",
       "6                         End of speed limit (80km/h)        600\n",
       "42  End of no passing by vehicles over 3.5 metric ...        600"
      ]
     },
     "execution_count": 17,
     "metadata": {},
     "output_type": "execute_result"
    }
   ],
   "source": [
    "data_pd_sorted.tail(10)"
   ]
  },
  {
   "cell_type": "code",
   "execution_count": 24,
   "metadata": {},
   "outputs": [
    {
     "data": {
      "text/plain": [
       "<Container object of 43 artists>"
      ]
     },
     "execution_count": 24,
     "metadata": {},
     "output_type": "execute_result"
    },
    {
     "data": {
      "image/png": "[encoded data removed]",
      "text/plain": [
       "<matplotlib.figure.Figure at 0xc76cecce10>"
      ]
     },
     "metadata": {},
     "output_type": "display_data"
    }
   ],
   "source": [
    "plt.figure(figsize=(12,8))\n",
    "plt.bar(range(43),height=data_pd_sorted[\"Occurance\"])"
   ]
  },
  {
   "cell_type": "markdown",
   "metadata": {},
   "source": [
    "# Design and Test a Model Architecture"
   ]
  },
  {
   "cell_type": "markdown",
   "metadata": {},
   "source": [
    "## Preprocessing"
   ]
  },
  {
   "cell_type": "markdown",
   "metadata": {},
   "source": [
    "### histogram equalization: \n",
    "* reason: The contrast of brightness will be enhanced. Therefore the features will stand out."
   ]
  },
  {
   "cell_type": "code",
   "execution_count": 25,
   "metadata": {},
   "outputs": [],
   "source": [
    "img_size = 30"
   ]
  },
  {
   "cell_type": "code",
   "execution_count": 28,
   "metadata": {},
   "outputs": [
    {
     "data": {
      "image/png": "[encoded data removed]",
      "text/plain": [
       "<matplotlib.figure.Figure at 0xc76cf43e10>"
      ]
     },
     "metadata": {},
     "output_type": "display_data"
    },
    {
     "name": "stdout",
     "output_type": "stream",
     "text": [
      "Final image size is (24, 24, 3)\n"
     ]
    }
   ],
   "source": [
    "#Some useful image functions\n",
    "  \n",
    "def show3img(img, img1, img2):\n",
    "    plt.figure(figsize=(6, 2))\n",
    "    plt.subplot(1, 3, 1)\n",
    "    plt.imshow(img)\n",
    "    plt.title(\"Raw image\")\n",
    "    plt.subplot(1, 3, 2)\n",
    "    plt.imshow(img1)\n",
    "    plt.title(\"Processed image\")\n",
    "    plt.subplot(1, 3, 3)\n",
    "    plt.imshow(img2)\n",
    "    plt.title(\"Augmented image\")\n",
    "    plt.show()\n",
    "    \n",
    "def eq_Hist(img):\n",
    "    #Histogram Equalization\n",
    "    img2=img.copy() \n",
    "    img2[:, :, 0] = cv2.equalizeHist(img[:, :, 0])\n",
    "    img2[:, :, 1] = cv2.equalizeHist(img[:, :, 1])\n",
    "    img2[:, :, 2] = cv2.equalizeHist(img[:, :, 2])\n",
    "    return img2\n",
    "\n",
    "def scale_img(img):\n",
    "    img2=img.copy()\n",
    "    sc_y=0.4*np.random.rand()+1.0\n",
    "    img2=cv2.resize(img, None, fx=1, fy=sc_y, interpolation = cv2.INTER_CUBIC)\n",
    "    c_x,c_y, sh = int(img2.shape[0]/2), int(img2.shape[1]/2), int(img_size/2)\n",
    "    return img2\n",
    "\n",
    "def crop(img, mar=0):\n",
    "    c_x,c_y, sh = int(img.shape[0]/2), int(img.shape[1]/2), int(img_size/2-mar)\n",
    "    return img[(c_x-sh):(c_x+sh),(c_y-sh):(c_y+sh)]\n",
    "\n",
    "def rotate_img(img):\n",
    "    c_x,c_y = int(img.shape[0]/2), int(img.shape[1]/2)\n",
    "    ang = 30.0*np.random.rand()-15\n",
    "    Mat = cv2.getRotationMatrix2D((c_x, c_y), ang, 1.0)\n",
    "    return cv2.warpAffine(img, Mat, img.shape[:2])\n",
    "\n",
    "def sharpen_img(img):\n",
    "    gb = cv2.GaussianBlur(img, (5,5), 20.0)\n",
    "    return cv2.addWeighted(img, 2, gb, -1, 0)\n",
    "#Compute linear image transformation ing*s+m\n",
    "def lin_img(img,s=1.0,m=0.0):\n",
    "    img2=cv2.multiply(img, np.array([s]))\n",
    "    return cv2.add(img2, np.array([m]))\n",
    "\n",
    "#Change image contrast; s>1 - increase\n",
    "def contr_img(img, s=1.0):\n",
    "    m=127.0*(1.0-s)\n",
    "    return lin_img(img, s, m)\n",
    "\n",
    "def transform_img(img):\n",
    "    img2=sharpen_img(img)\n",
    "    img2=crop(img2,3)\n",
    "    img2=contr_img(img2, 1.5)\n",
    "    return eq_Hist(img2)\n",
    "\n",
    "def augment_img(img):\n",
    "    img=contr_img(img, 1.8*np.random.rand()+0.2)\n",
    "    img=rotate_img(img)\n",
    "    img=scale_img(img)\n",
    "    return transform_img(img)\n",
    "\n",
    "x_selected = X_train[y_train == 1]\n",
    "im=x_selected[60, :, :, :]\n",
    "imp=contr_img(im, 0.5)\n",
    "\n",
    "show3img(im, transform_img(im), augment_img(im))\n",
    "print(\"Final image size is\", transform_img(im).shape)"
   ]
  },
  {
   "cell_type": "code",
   "execution_count": 73,
   "metadata": {},
   "outputs": [],
   "source": [
    "X_train_equalize = list()\n",
    "X_test_equalize = list()\n",
    "X_valid_equalize = list()\n",
    "\n",
    "for i in range(len(X_train)):\n",
    "    X_train_equalize.append(transform_img(X_train[i]))\n",
    "for i in range(len(X_test)):\n",
    "    X_test_equalize.append(transform_img(X_test[i]))    \n",
    "for i in range(len(X_valid)):\n",
    "    X_valid_equalize.append(transform_img(X_valid[i]))"
   ]
  },
  {
   "cell_type": "code",
   "execution_count": 74,
   "metadata": {},
   "outputs": [],
   "source": [
    "X_train_equalize = np.array(X_train_equalize)\n",
    "X_test_equalize = np.array(X_test_equalize)\n",
    "X_valid_equalize = np.array(X_valid_equalize)"
   ]
  },
  {
   "cell_type": "markdown",
   "metadata": {},
   "source": [
    "### normalization: \n",
    "* reason: improve learninig speed\n",
    "* method: scaled images between -.5 and .5, by dividing by 255. and subtracting .5."
   ]
  },
  {
   "cell_type": "code",
   "execution_count": 80,
   "metadata": {},
   "outputs": [],
   "source": [
    "X_train_norm = X_train_equalize/255.\n",
    "X_test_norm = X_test_equalize/255.\n",
    "X_valid_norm = X_valid_equalize/255."
   ]
  },
  {
   "cell_type": "code",
   "execution_count": 81,
   "metadata": {},
   "outputs": [],
   "source": [
    "labels_train = OHE_labels(y_train,43)\n",
    "labels_test = OHE_labels(y_test,43)\n",
    "labels_valid = OHE_labels(y_valid,43)"
   ]
  },
  {
   "cell_type": "code",
   "execution_count": 82,
   "metadata": {},
   "outputs": [
    {
     "data": {
      "text/plain": [
       "(41469, 24, 24, 3)"
      ]
     },
     "execution_count": 82,
     "metadata": {},
     "output_type": "execute_result"
    }
   ],
   "source": [
    "X_train_norm.shape  "
   ]
  },
  {
   "cell_type": "code",
   "execution_count": 83,
   "metadata": {},
   "outputs": [
    {
     "data": {
      "text/plain": [
       "(41469, 43)"
      ]
     },
     "execution_count": 83,
     "metadata": {},
     "output_type": "execute_result"
    }
   ],
   "source": [
    "labels_train.shape"
   ]
  },
  {
   "cell_type": "markdown",
   "metadata": {},
   "source": [
    "### data augmentation: \n",
    "\n",
    "* Because of limited data and the class imbalance, additional data was generated by affine transformation including \n",
    "    1. **rotation** with random number generated between +/- 40 degress\n",
    "    2. **translation** by +/- 10 pixels along vertical and horizontal direction\n",
    "    3. **shearing**"
   ]
  },
  {
   "cell_type": "code",
   "execution_count": 78,
   "metadata": {},
   "outputs": [],
   "source": [
    "datagen = ImageDataGenerator(\n",
    "    featurewise_center=False,\n",
    "    samplewise_center=False,\n",
    "    featurewise_std_normalization=False,\n",
    "    samplewise_std_normalization=False,\n",
    "    zca_whitening=False,\n",
    "    rotation_range=15,\n",
    "    width_shift_range=0.1,\n",
    "    height_shift_range=0.1,\n",
    "    horizontal_flip=True,\n",
    "    vertical_flip=False\n",
    "    )\n",
    "datagen.fit(X_train)"
   ]
  },
  {
   "cell_type": "markdown",
   "metadata": {},
   "source": [
    "## Model"
   ]
  },
  {
   "cell_type": "markdown",
   "metadata": {},
   "source": [
    "### Model Architechture"
   ]
  },
  {
   "cell_type": "code",
   "execution_count": 165,
   "metadata": {},
   "outputs": [
    {
     "data": {
      "text/plain": [
       "array([  3.65948974e-03,   1.49699664e-02,   1.66765064e-03,\n",
       "         9.54684345e-02,   2.10976751e-03,   7.37731642e-04,\n",
       "         4.09750867e-02,   1.22291726e-04,   1.86311492e-01,\n",
       "         3.42533035e-01])"
      ]
     },
     "execution_count": 165,
     "metadata": {},
     "output_type": "execute_result"
    }
   ],
   "source": [
    "reg_weight_decay = np.power(10, -4* np.random.rand(10) )\n",
    "reg_weight_decay"
   ]
  },
  {
   "cell_type": "code",
   "execution_count": 179,
   "metadata": {},
   "outputs": [],
   "source": [
    "def create_model(baseMapNum = 32, weight_decay = 1e-4, num_classes = 43):    \n",
    "    model = Sequential()\n",
    "    # 1: convolution\n",
    "    model.add(Conv2D(baseMapNum, (3,3), padding='same', kernel_regularizer=regularizers.l2(weight_decay), input_shape=X_train_norm.shape[1:]))\n",
    "    model.add(BatchNormalization())\n",
    "    model.add(Activation('relu'))\n",
    "\n",
    "    # 2: maxpool\n",
    "    model.add(MaxPooling2D(pool_size=(2,2), padding='same'))\n",
    "    model.add(Dropout(0.4))\n",
    "\n",
    "    # 3: convolution\n",
    "    model.add(Conv2D(2*baseMapNum, (3,3), padding='same', kernel_regularizer=regularizers.l2(weight_decay)))\n",
    "    model.add(BatchNormalization())\n",
    "    model.add(Activation('relu'))\n",
    "\n",
    "    # 2: maxpool\n",
    "    model.add(MaxPooling2D(pool_size=(2,2), padding='same'))\n",
    "    model.add(Dropout(0.4))\n",
    "    \n",
    "    model.add(Flatten())\n",
    "    model.add(Dense(120))\n",
    "    model.add(Activation('relu'))\n",
    "    model.add(Dropout(0.4))\n",
    "    model.add(Dense(84))\n",
    "    model.add(Activation('relu'))\n",
    "    model.add(Dropout(0.4))\n",
    "    model.add(Dense(num_classes))\n",
    "    model.add(Activation('softmax'))\n",
    "    return model"
   ]
  },
  {
   "cell_type": "code",
   "execution_count": 180,
   "metadata": {},
   "outputs": [],
   "source": [
    "model = create_model(baseMapNum = 32, weight_decay = 1e-3, num_classes = 43)"
   ]
  },
  {
   "cell_type": "code",
   "execution_count": 181,
   "metadata": {},
   "outputs": [
    {
     "name": "stdout",
     "output_type": "stream",
     "text": [
      "_________________________________________________________________\n",
      "Layer (type)                 Output Shape              Param #   \n",
      "=================================================================\n",
      "conv2d_13 (Conv2D)           (None, 24, 24, 32)        896       \n",
      "_________________________________________________________________\n",
      "batch_normalization_13 (Batc (None, 24, 24, 32)        128       \n",
      "_________________________________________________________________\n",
      "activation_30 (Activation)   (None, 24, 24, 32)        0         \n",
      "_________________________________________________________________\n",
      "max_pooling2d_13 (MaxPooling (None, 12, 12, 32)        0         \n",
      "_________________________________________________________________\n",
      "dropout_25 (Dropout)         (None, 12, 12, 32)        0         \n",
      "_________________________________________________________________\n",
      "conv2d_14 (Conv2D)           (None, 12, 12, 64)        18496     \n",
      "_________________________________________________________________\n",
      "batch_normalization_14 (Batc (None, 12, 12, 64)        256       \n",
      "_________________________________________________________________\n",
      "activation_31 (Activation)   (None, 12, 12, 64)        0         \n",
      "_________________________________________________________________\n",
      "max_pooling2d_14 (MaxPooling (None, 6, 6, 64)          0         \n",
      "_________________________________________________________________\n",
      "dropout_26 (Dropout)         (None, 6, 6, 64)          0         \n",
      "_________________________________________________________________\n",
      "flatten_8 (Flatten)          (None, 2304)              0         \n",
      "_________________________________________________________________\n",
      "dense_19 (Dense)             (None, 120)               276600    \n",
      "_________________________________________________________________\n",
      "activation_32 (Activation)   (None, 120)               0         \n",
      "_________________________________________________________________\n",
      "dropout_27 (Dropout)         (None, 120)               0         \n",
      "_________________________________________________________________\n",
      "dense_20 (Dense)             (None, 84)                10164     \n",
      "_________________________________________________________________\n",
      "activation_33 (Activation)   (None, 84)                0         \n",
      "_________________________________________________________________\n",
      "dropout_28 (Dropout)         (None, 84)                0         \n",
      "_________________________________________________________________\n",
      "dense_21 (Dense)             (None, 43)                3655      \n",
      "_________________________________________________________________\n",
      "activation_34 (Activation)   (None, 43)                0         \n",
      "=================================================================\n",
      "Total params: 310,195\n",
      "Trainable params: 310,003\n",
      "Non-trainable params: 192\n",
      "_________________________________________________________________\n"
     ]
    }
   ],
   "source": [
    "model.summary()"
   ]
  },
  {
   "cell_type": "markdown",
   "metadata": {},
   "source": [
    "### Adam"
   ]
  },
  {
   "cell_type": "code",
   "execution_count": 182,
   "metadata": {},
   "outputs": [],
   "source": [
    "from keras.optimizers import Adam"
   ]
  },
  {
   "cell_type": "code",
   "execution_count": 183,
   "metadata": {},
   "outputs": [],
   "source": [
    "opt_adam = Adam(lr=0.001, beta_1=0.9, beta_2=0.999, epsilon=1e-8, decay=0.000001)\n",
    "model.compile(loss='categorical_crossentropy',\n",
    "              optimizer=opt_adam,\n",
    "              metrics=['accuracy'])"
   ]
  },
  {
   "cell_type": "code",
   "execution_count": 184,
   "metadata": {},
   "outputs": [
    {
     "name": "stdout",
     "output_type": "stream",
     "text": [
      "Train on 41469 samples, validate on 12630 samples\n",
      "Epoch 1/10\n",
      "41469/41469 [==============================] - 85s 2ms/step - loss: 3.3247 - acc: 0.1059 - val_loss: 2.4985 - val_acc: 0.3203\n",
      "Epoch 2/10\n",
      "41469/41469 [==============================] - 86s 2ms/step - loss: 2.8375 - acc: 0.1755 - val_loss: 2.0951 - val_acc: 0.3911\n",
      "Epoch 3/10\n",
      "41469/41469 [==============================] - 88s 2ms/step - loss: 2.5056 - acc: 0.2305 - val_loss: 1.9324 - val_acc: 0.4112\n",
      "Epoch 4/10\n",
      "41469/41469 [==============================] - 89s 2ms/step - loss: 2.2994 - acc: 0.2741 - val_loss: 1.7640 - val_acc: 0.4585\n",
      "Epoch 5/10\n",
      "41469/41469 [==============================] - 95s 2ms/step - loss: 2.2217 - acc: 0.2976 - val_loss: 1.7557 - val_acc: 0.4538\n",
      "Epoch 6/10\n",
      "41469/41469 [==============================] - 96s 2ms/step - loss: 2.1526 - acc: 0.3157 - val_loss: 1.7312 - val_acc: 0.4289\n",
      "Epoch 7/10\n",
      "41469/41469 [==============================] - 96s 2ms/step - loss: 2.0797 - acc: 0.3382 - val_loss: 1.6022 - val_acc: 0.5211\n",
      "Epoch 8/10\n",
      "41469/41469 [==============================] - 94s 2ms/step - loss: 1.9805 - acc: 0.3669 - val_loss: 1.5794 - val_acc: 0.5072\n",
      "Epoch 9/10\n",
      "41469/41469 [==============================] - 99s 2ms/step - loss: 1.9031 - acc: 0.3901 - val_loss: 1.4862 - val_acc: 0.5698\n",
      "Epoch 10/10\n",
      "41469/41469 [==============================] - 99s 2ms/step - loss: 1.8353 - acc: 0.4123 - val_loss: 1.4269 - val_acc: 0.5886\n"
     ]
    }
   ],
   "source": [
    "model.fit(X_train_norm, labels_train,\n",
    "          batch_size=64,\n",
    "          epochs=10,\n",
    "          validation_data=(X_test_norm, labels_test),\n",
    "          verbose=1,\n",
    "          shuffle=True)    \n",
    "model.save_weights('model//keras_german_sign_ADAM_weighted_Decay_dropout_04.h5')"
   ]
  },
  {
   "cell_type": "code",
   "execution_count": 175,
   "metadata": {},
   "outputs": [
    {
     "name": "stdout",
     "output_type": "stream",
     "text": [
      "4410/4410 [==============================] - 4s 865us/step\n",
      "\n",
      "Test result: 79.819 loss: 0.908\n"
     ]
    }
   ],
   "source": [
    "scores = model.evaluate(X_valid_norm, labels_valid, batch_size=64, verbose=1)\n",
    "print('\\nTest result: %.3f loss: %.3f' % (scores[1]*100,scores[0]))"
   ]
  },
  {
   "cell_type": "markdown",
   "metadata": {},
   "source": [
    "# continue training"
   ]
  },
  {
   "cell_type": "code",
   "execution_count": 146,
   "metadata": {},
   "outputs": [],
   "source": [
    "from keras.models import load_model\n",
    "# load_weights only sets the weights of your network. You still need to define its architecture before calling load_weights"
   ]
  },
  {
   "cell_type": "code",
   "execution_count": 147,
   "metadata": {},
   "outputs": [],
   "source": [
    "model2 = create_model()"
   ]
  },
  {
   "cell_type": "code",
   "execution_count": 148,
   "metadata": {},
   "outputs": [],
   "source": [
    "model2.load_weights('model//keras_german_sign_ADAM.h5')"
   ]
  },
  {
   "cell_type": "code",
   "execution_count": 149,
   "metadata": {},
   "outputs": [],
   "source": [
    "opt_adam = Adam(lr=0.001, beta_1=0.9, beta_2=0.999, epsilon=1e-8, decay=0.000001)\n",
    "model2.compile(loss='categorical_crossentropy',\n",
    "              optimizer=opt_adam,\n",
    "              metrics=['accuracy'])"
   ]
  },
  {
   "cell_type": "code",
   "execution_count": 150,
   "metadata": {},
   "outputs": [
    {
     "name": "stdout",
     "output_type": "stream",
     "text": [
      "Train on 41469 samples, validate on 12630 samples\n",
      "Epoch 1/10\n",
      "41469/41469 [==============================] - 43s 1ms/step - loss: 0.2362 - acc: 0.9248 - val_loss: 0.3560 - val_acc: 0.9016\n",
      "Epoch 2/10\n",
      "41469/41469 [==============================] - 42s 1ms/step - loss: 0.2157 - acc: 0.9308 - val_loss: 0.3846 - val_acc: 0.8911\n",
      "Epoch 3/10\n",
      "41469/41469 [==============================] - 44s 1ms/step - loss: 0.2100 - acc: 0.9327 - val_loss: 0.3258 - val_acc: 0.9119\n",
      "Epoch 4/10\n",
      "41469/41469 [==============================] - 47s 1ms/step - loss: 0.2056 - acc: 0.9350 - val_loss: 0.3442 - val_acc: 0.9069\n",
      "Epoch 5/10\n",
      "41469/41469 [==============================] - 48s 1ms/step - loss: 0.1942 - acc: 0.9380 - val_loss: 0.3491 - val_acc: 0.9068\n",
      "Epoch 6/10\n",
      "41469/41469 [==============================] - 47s 1ms/step - loss: 0.1873 - acc: 0.9428 - val_loss: 0.3651 - val_acc: 0.9040\n",
      "Epoch 7/10\n",
      "41469/41469 [==============================] - 47s 1ms/step - loss: 0.1818 - acc: 0.9426 - val_loss: 0.3407 - val_acc: 0.9108\n",
      "Epoch 8/10\n",
      "41469/41469 [==============================] - 49s 1ms/step - loss: 0.1805 - acc: 0.9432 - val_loss: 0.3600 - val_acc: 0.9067\n",
      "Epoch 9/10\n",
      "41469/41469 [==============================] - 48s 1ms/step - loss: 0.1720 - acc: 0.9461 - val_loss: 0.3293 - val_acc: 0.9161\n",
      "Epoch 10/10\n",
      "41469/41469 [==============================] - 48s 1ms/step - loss: 0.1664 - acc: 0.9485 - val_loss: 0.3416 - val_acc: 0.9091\n"
     ]
    }
   ],
   "source": [
    "model2.fit(X_train_norm, labels_train,\n",
    "          batch_size=64,\n",
    "          epochs=10,\n",
    "          validation_data=(X_test_norm, labels_test),\n",
    "          verbose=1,\n",
    "          shuffle=True)    \n",
    "model2.save_weights('model//keras_german_sign_ADAM_20.h5')"
   ]
  },
  {
   "cell_type": "markdown",
   "metadata": {},
   "source": [
    "# test other images"
   ]
  },
  {
   "cell_type": "code",
   "execution_count": 152,
   "metadata": {},
   "outputs": [
    {
     "name": "stdout",
     "output_type": "stream",
     "text": [
      "4410/4410 [==============================] - 2s 366us/step\n",
      "\n",
      "Test result: 81.066 loss: 1.059\n"
     ]
    }
   ],
   "source": [
    "scores = model2.evaluate(X_valid_norm, labels_valid, batch_size=64, verbose=1)\n",
    "print('\\nTest result: %.3f loss: %.3f' % (scores[1]*100,scores[0]))"
   ]
  },
  {
   "cell_type": "code",
   "execution_count": null,
   "metadata": {},
   "outputs": [],
   "source": []
  }
 ],
 "metadata": {
  "kernelspec": {
   "display_name": "Python 3",
   "language": "python",
   "name": "python3"
  },
  "language_info": {
   "codemirror_mode": {
    "name": "ipython",
    "version": 3
   },
   "file_extension": ".py",
   "mimetype": "text/x-python",
   "name": "python",
   "nbconvert_exporter": "python",
   "pygments_lexer": "ipython3",
   "version": "3.6.3"
  },
  "nav_menu": {},
  "toc": {
   "navigate_menu": true,
   "number_sections": true,
   "sideBar": true,
   "threshold": 6,
   "toc_cell": false,
   "toc_section_display": "block",
   "toc_window_display": false
  }
 },
 "nbformat": 4,
 "nbformat_minor": 2
}
